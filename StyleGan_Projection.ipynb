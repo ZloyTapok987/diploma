{
  "cells": [
    {
      "cell_type": "code",
      "execution_count": null,
      "metadata": {
        "id": "rG591nWZTAMJ",
        "colab": {
          "base_uri": "https://localhost:8080/"
        },
        "outputId": "526a1365-0b2d-4d0d-e718-36d7ebb6370a"
      },
      "outputs": [
        {
          "output_type": "stream",
          "name": "stdout",
          "text": [
            "SSH_AUTH_SOCK=/tmp/ssh-IuZbQvY1Wt6g/agent.500; export SSH_AUTH_SOCK;\n",
            "SSH_AGENT_PID=501; export SSH_AGENT_PID;\n",
            "echo Agent pid 501;\n",
            "Could not open a connection to your authentication agent.\n",
            "/bin/bash: /root/.ssh/known_hosts: No such file or directory\n",
            "Cloning into 'stylegan2-pytorch'...\n",
            "remote: Enumerating objects: 677, done.\u001b[K\n",
            "remote: Counting objects: 100% (279/279), done.\u001b[K\n",
            "remote: Compressing objects: 100% (252/252), done.\u001b[K\n",
            "remote: Total 677 (delta 38), reused 262 (delta 23), pack-reused 398\u001b[K\n",
            "Receiving objects: 100% (677/677), 152.92 MiB | 5.88 MiB/s, done.\n",
            "Resolving deltas: 100% (240/240), done.\n",
            "Requirement already satisfied: ninja in /usr/local/lib/python3.7/dist-packages (1.10.2.3)\n",
            "Requirement already satisfied: scikit-image in /usr/local/lib/python3.7/dist-packages (0.18.3)\n",
            "Requirement already satisfied: tifffile>=2019.7.26 in /usr/local/lib/python3.7/dist-packages (from scikit-image) (2021.11.2)\n",
            "Requirement already satisfied: pillow!=7.1.0,!=7.1.1,>=4.3.0 in /usr/local/lib/python3.7/dist-packages (from scikit-image) (7.1.2)\n",
            "Requirement already satisfied: PyWavelets>=1.1.1 in /usr/local/lib/python3.7/dist-packages (from scikit-image) (1.3.0)\n",
            "Requirement already satisfied: numpy>=1.16.5 in /usr/local/lib/python3.7/dist-packages (from scikit-image) (1.21.6)\n",
            "Requirement already satisfied: networkx>=2.0 in /usr/local/lib/python3.7/dist-packages (from scikit-image) (2.6.3)\n",
            "Requirement already satisfied: scipy>=1.0.1 in /usr/local/lib/python3.7/dist-packages (from scikit-image) (1.4.1)\n",
            "Requirement already satisfied: matplotlib!=3.0.0,>=2.0.0 in /usr/local/lib/python3.7/dist-packages (from scikit-image) (3.2.2)\n",
            "Requirement already satisfied: imageio>=2.3.0 in /usr/local/lib/python3.7/dist-packages (from scikit-image) (2.4.1)\n",
            "Requirement already satisfied: kiwisolver>=1.0.1 in /usr/local/lib/python3.7/dist-packages (from matplotlib!=3.0.0,>=2.0.0->scikit-image) (1.4.2)\n",
            "Requirement already satisfied: cycler>=0.10 in /usr/local/lib/python3.7/dist-packages (from matplotlib!=3.0.0,>=2.0.0->scikit-image) (0.11.0)\n",
            "Requirement already satisfied: pyparsing!=2.0.4,!=2.1.2,!=2.1.6,>=2.0.1 in /usr/local/lib/python3.7/dist-packages (from matplotlib!=3.0.0,>=2.0.0->scikit-image) (3.0.8)\n",
            "Requirement already satisfied: python-dateutil>=2.1 in /usr/local/lib/python3.7/dist-packages (from matplotlib!=3.0.0,>=2.0.0->scikit-image) (2.8.2)\n",
            "Requirement already satisfied: typing-extensions in /usr/local/lib/python3.7/dist-packages (from kiwisolver>=1.0.1->matplotlib!=3.0.0,>=2.0.0->scikit-image) (4.1.1)\n",
            "Requirement already satisfied: six>=1.5 in /usr/local/lib/python3.7/dist-packages (from python-dateutil>=2.1->matplotlib!=3.0.0,>=2.0.0->scikit-image) (1.15.0)\n"
          ]
        }
      ],
      "source": [
        "!rm -r stylegan2-pytorch\n",
        "!ssh-agent -s\n",
        "!ssh-add ~/.ssh/id_rsa\n",
        "!ssh-keyscan -t rsa github.com >> ~/.ssh/known_hosts\n",
        "!git clone https://github.com/ZloyTapok987/stylegan2-pytorch.git\n",
        "!pip install ninja\n",
        "!pip install scikit-image"
      ]
    },
    {
      "cell_type": "code",
      "source": [
        "!ls /content/drive/MyDrive/diploma/sample"
      ],
      "metadata": {
        "colab": {
          "base_uri": "https://localhost:8080/"
        },
        "id": "VaxnJNO8IpAq",
        "outputId": "9095a11e-6267-44f5-e512-52109eea0e2e"
      },
      "execution_count": null,
      "outputs": [
        {
          "output_type": "stream",
          "name": "stdout",
          "text": [
            "000000.png  000018.png\t000034.png  000050.png\t000067.png  000084.png\n",
            "000001.png  000019.png\t000035.png  000051.png\t000069.png  000085.png\n",
            "000002.png  000020.png\t000036.png  000052.png\t000070.png  000086.png\n",
            "000003.png  000021.png\t000037.png  000053.png\t000071.png  000087.png\n",
            "000005.png  000022.png\t000038.png  000054.png\t000072.png  000089.png\n",
            "000006.png  000023.png\t000039.png  000055.png\t000073.png  000090.png\n",
            "000007.png  000024.png\t000040.png  000056.png\t000074.png  000092.png\n",
            "000008.png  000025.png\t000041.png  000057.png\t000075.png  000093.png\n",
            "000009.png  000026.png\t000042.png  000058.png\t000076.png  000096.png\n",
            "000010.png  000027.png\t000043.png  000059.png\t000077.png  000097.png\n",
            "000011.png  000028.png\t000044.png  000060.png\t000078.png  000098.png\n",
            "000012.png  000029.png\t000045.png  000062.png\t000079.png\n",
            "000014.png  000030.png\t000046.png  000063.png\t000080.png\n",
            "000015.png  000031.png\t000047.png  000064.png\t000081.png\n",
            "000016.png  000032.png\t000048.png  000065.png\t000082.png\n",
            "000017.png  000033.png\t000049.png  000066.png\t000083.png\n"
          ]
        }
      ]
    },
    {
      "cell_type": "code",
      "execution_count": null,
      "metadata": {
        "colab": {
          "base_uri": "https://localhost:8080/"
        },
        "id": "pNRh179uTDWv",
        "outputId": "c7342b92-44db-487e-e1bd-44f178a8b38d"
      },
      "outputs": [
        {
          "output_type": "stream",
          "name": "stdout",
          "text": [
            "Setting up Perceptual loss...\n",
            "Loading model from: /content/stylegan2-pytorch/lpips/weights/v0.1/vgg.pth\n",
            "...[net-lin [vgg]] initialized\n",
            "...Done\n",
            "  0% 0/1000 [00:00<?, ?it/s]/content/stylegan2-pytorch/op/conv2d_gradfix.py:89: UserWarning: conv2d_gradfix not supported on PyTorch 1.10.0+cu111. Falling back to torch.nn.functional.conv2d().\n",
            "  f\"conv2d_gradfix not supported on PyTorch {torch.__version__}. Falling back to torch.nn.functional.conv2d().\"\n",
            "perceptual: 1.0433; noise regularize: 0.0000; mse: 0.0582; lr: 0.0000: 100% 1000/1000 [16:58<00:00,  1.02s/it]\n"
          ]
        }
      ],
      "source": [
        "!python stylegan2-pytorch/projector.py --size 128 --w_plus --ckpt /content/drive/MyDrive/diploma/checkpointLOGAN/175000.pt /content/drive/MyDrive/diploma/sample/000000.png /content/drive/MyDrive/diploma/sample/000018.png /content/drive/MyDrive/diploma/sample/000034.png /content/drive/MyDrive/diploma/sample/000050.png /content/drive/MyDrive/diploma/sample/000067.png /content/drive/MyDrive/diploma/sample/000084.png /content/drive/MyDrive/diploma/sample/000001.png /content/drive/MyDrive/diploma/sample/000019.png /content/drive/MyDrive/diploma/sample/000035.png /content/drive/MyDrive/diploma/sample/000051.png /content/drive/MyDrive/diploma/sample/000069.png /content/drive/MyDrive/diploma/sample/000085.png /content/drive/MyDrive/diploma/sample/000002.png /content/drive/MyDrive/diploma/sample/000020.png /content/drive/MyDrive/diploma/sample/000036.png /content/drive/MyDrive/diploma/sample/000052.png "
      ]
    },
    {
      "cell_type": "code",
      "execution_count": null,
      "metadata": {
        "colab": {
          "base_uri": "https://localhost:8080/"
        },
        "id": "NkQK2TOZTGzD",
        "outputId": "9fcdf0ab-83b5-4e12-f076-eafeba293204"
      },
      "outputs": [
        {
          "output_type": "stream",
          "name": "stdout",
          "text": [
            "Setting up Perceptual loss...\n",
            "Loading model from: /content/stylegan2-pytorch/lpips/weights/v0.1/vgg.pth\n",
            "...[net-lin [vgg]] initialized\n",
            "...Done\n",
            "  0% 0/1000 [00:00<?, ?it/s]/content/stylegan2-pytorch/op/conv2d_gradfix.py:89: UserWarning: conv2d_gradfix not supported on PyTorch 1.10.0+cu111. Falling back to torch.nn.functional.conv2d().\n",
            "  f\"conv2d_gradfix not supported on PyTorch {torch.__version__}. Falling back to torch.nn.functional.conv2d().\"\n",
            "  0% 0/1000 [00:01<?, ?it/s]\n",
            "Traceback (most recent call last):\n",
            "  File \"stylegan2-pytorch/projector.py\", line 204, in <module>\n",
            "    p_loss = percept(img_gen, imgs).sum()\n",
            "  File \"/usr/local/lib/python3.7/dist-packages/torch/nn/modules/module.py\", line 1102, in _call_impl\n",
            "    return forward_call(*input, **kwargs)\n",
            "  File \"/content/stylegan2-pytorch/lpips/__init__.py\", line 40, in forward\n",
            "    return self.model.forward(target, pred)\n",
            "  File \"/content/stylegan2-pytorch/lpips/dist_model.py\", line 117, in forward\n",
            "    return self.net.forward(in0, in1, retPerLayer=retPerLayer)\n",
            "  File \"/usr/local/lib/python3.7/dist-packages/torch/nn/parallel/data_parallel.py\", line 166, in forward\n",
            "    return self.module(*inputs[0], **kwargs[0])\n",
            "  File \"/usr/local/lib/python3.7/dist-packages/torch/nn/modules/module.py\", line 1102, in _call_impl\n",
            "    return forward_call(*input, **kwargs)\n",
            "  File \"/content/stylegan2-pytorch/lpips/networks_basic.py\", line 71, in forward\n",
            "    feats0[kk], feats1[kk] = util.normalize_tensor(outs0[kk]), util.normalize_tensor(outs1[kk])\n",
            "  File \"/content/stylegan2-pytorch/lpips/__init__.py\", line 43, in normalize_tensor\n",
            "    norm_factor = torch.sqrt(torch.sum(in_feat**2,dim=1,keepdim=True))\n",
            "  File \"/usr/local/lib/python3.7/dist-packages/torch/_tensor.py\", line 30, in wrapped\n",
            "    return f(*args, **kwargs)\n",
            "RuntimeError: CUDA out of memory. Tried to allocate 204.00 MiB (GPU 0; 14.76 GiB total capacity; 13.27 GiB already allocated; 9.75 MiB free; 13.44 GiB reserved in total by PyTorch) If reserved memory is >> allocated memory try setting max_split_size_mb to avoid fragmentation.  See documentation for Memory Management and PYTORCH_CUDA_ALLOC_CONF\n"
          ]
        }
      ],
      "source": [
        "!python stylegan2-pytorch/projector.py --size 128 --w_plus --ckpt /content/drive/MyDrive/diploma/checkpointLOGAN/175000.pt /content/drive/MyDrive/diploma/sample/000070.png /content/drive/MyDrive/diploma/sample/000086.png /content/drive/MyDrive/diploma/sample/000003.png /content/drive/MyDrive/diploma/sample/000021.png /content/drive/MyDrive/diploma/sample/000037.png /content/drive/MyDrive/diploma/sample/000053.png /content/drive/MyDrive/diploma/sample/000071.png /content/drive/MyDrive/diploma/sample/000087.png /content/drive/MyDrive/diploma/sample/000005.png /content/drive/MyDrive/diploma/sample/000022.png /content/drive/MyDrive/diploma/sample/000038.png /content/drive/MyDrive/diploma/sample/000054.png /content/drive/MyDrive/diploma/sample/000072.png /content/drive/MyDrive/diploma/sample/000089.png /content/drive/MyDrive/diploma/sample/000006.png /content/drive/MyDrive/diploma/sample/000023.png /content/drive/MyDrive/diploma/sample/000039.png /content/drive/MyDrive/diploma/sample/000055.png /content/drive/MyDrive/diploma/sample/000073.png /content/drive/MyDrive/diploma/sample/000090.png /content/drive/MyDrive/diploma/sample/000007.png /content/drive/MyDrive/diploma/sample/000024.png /content/drive/MyDrive/diploma/sample/000040.png /content/drive/MyDrive/diploma/sample/000056.png /content/drive/MyDrive/diploma/sample/000074.png /content/drive/MyDrive/diploma/sample/000092.png /content/drive/MyDrive/diploma/sample/000008.png /content/drive/MyDrive/diploma/sample/000025.png /content/drive/MyDrive/diploma/sample/000041.png /content/drive/MyDrive/diploma/sample/000057.png /content/drive/MyDrive/diploma/sample/000075.png /content/drive/MyDrive/diploma/sample/000093.png /content/drive/MyDrive/diploma/sample/000009.png /content/drive/MyDrive/diploma/sample/000026.png /content/drive/MyDrive/diploma/sample/000042.png /content/drive/MyDrive/diploma/sample/000058.png /content/drive/MyDrive/diploma/sample/000076.png /content/drive/MyDrive/diploma/sample/000096.png /content/drive/MyDrive/diploma/sample/000010.png /content/drive/MyDrive/diploma/sample/000027.png /content/drive/MyDrive/diploma/sample/000043.png /content/drive/MyDrive/diploma/sample/000059.png /content/drive/MyDrive/diploma/sample/000077.png /content/drive/MyDrive/diploma/sample/000097.png /content/drive/MyDrive/diploma/sample/000011.png /content/drive/MyDrive/diploma/sample/000028.png /content/drive/MyDrive/diploma/sample/000044.png /content/drive/MyDrive/diploma/sample/000060.png /content/drive/MyDrive/diploma/sample/000078.png /content/drive/MyDrive/diploma/sample/000098.png /content/drive/MyDrive/diploma/sample/000012.png "
      ]
    },
    {
      "cell_type": "code",
      "execution_count": null,
      "metadata": {
        "colab": {
          "base_uri": "https://localhost:8080/"
        },
        "id": "fzrHxHvrTG1s",
        "outputId": "31de8ca3-9894-463c-f7ea-9b8061643313"
      },
      "outputs": [
        {
          "output_type": "stream",
          "name": "stdout",
          "text": [
            "Setting up Perceptual loss...\n",
            "Loading model from: /content/stylegan2-pytorch/lpips/weights/v0.1/vgg.pth\n",
            "...[net-lin [vgg]] initialized\n",
            "...Done\n",
            "  0% 0/1000 [00:00<?, ?it/s]/content/stylegan2-pytorch/op/conv2d_gradfix.py:89: UserWarning: conv2d_gradfix not supported on PyTorch 1.10.0+cu111. Falling back to torch.nn.functional.conv2d().\n",
            "  f\"conv2d_gradfix not supported on PyTorch {torch.__version__}. Falling back to torch.nn.functional.conv2d().\"\n",
            "perceptual: 1.6009; noise regularize: 0.0000; mse: 0.1343; lr: 0.0000: 100% 1000/1000 [26:04<00:00,  1.56s/it]\n"
          ]
        }
      ],
      "source": [
        "!python stylegan2-pytorch/projector.py --size 128 --w_plus --ckpt /content/drive/MyDrive/diploma/checkpointLOGAN/175000.pt /content/drive/MyDrive/diploma/sample/000029.png /content/drive/MyDrive/diploma/sample/000045.png /content/drive/MyDrive/diploma/sample/000062.png /content/drive/MyDrive/diploma/sample/000079.png /content/drive/MyDrive/diploma/sample/000014.png /content/drive/MyDrive/diploma/sample/000030.png /content/drive/MyDrive/diploma/sample/000046.png /content/drive/MyDrive/diploma/sample/000063.png /content/drive/MyDrive/diploma/sample/000080.png /content/drive/MyDrive/diploma/sample/000015.png /content/drive/MyDrive/diploma/sample/000031.png /content/drive/MyDrive/diploma/sample/000047.png /content/drive/MyDrive/diploma/sample/000064.png /content/drive/MyDrive/diploma/sample/000081.png /content/drive/MyDrive/diploma/sample/000016.png /content/drive/MyDrive/diploma/sample/000032.png /content/drive/MyDrive/diploma/sample/000048.png /content/drive/MyDrive/diploma/sample/000065.png /content/drive/MyDrive/diploma/sample/000082.png /content/drive/MyDrive/diploma/sample/000017.png /content/drive/MyDrive/diploma/sample/000033.png /content/drive/MyDrive/diploma/sample/000049.png /content/drive/MyDrive/diploma/sample/000066.png /content/drive/MyDrive/diploma/sample/000083.png"
      ]
    },
    {
      "cell_type": "code",
      "execution_count": null,
      "metadata": {
        "colab": {
          "base_uri": "https://localhost:8080/"
        },
        "id": "nz88nghyTG4U",
        "outputId": "69435d89-8d69-4f43-f299-4b354bf37081"
      },
      "outputs": [
        {
          "output_type": "stream",
          "name": "stdout",
          "text": [
            "Setting up Perceptual loss...\n",
            "Loading model from: /content/stylegan2-pytorch/lpips/weights/v0.1/vgg.pth\n",
            "...[net-lin [vgg]] initialized\n",
            "...Done\n",
            "  0% 0/1000 [00:00<?, ?it/s]/content/stylegan2-pytorch/op/conv2d_gradfix.py:89: UserWarning: conv2d_gradfix not supported on PyTorch 1.10.0+cu111. Falling back to torch.nn.functional.conv2d().\n",
            "  f\"conv2d_gradfix not supported on PyTorch {torch.__version__}. Falling back to torch.nn.functional.conv2d().\"\n",
            "perceptual: 1.5763; noise regularize: 0.0000; mse: 0.2826; lr: 0.0000: 100% 1000/1000 [22:38<00:00,  1.36s/it]\n"
          ]
        }
      ],
      "source": [
        "!python stylegan2-pytorch/projector.py --size 128 --w_plus --ckpt /content/drive/MyDrive/diploma/checkpointLOGAN/175000.pt /content/drive/MyDrive/diploma/sample/000070.png /content/drive/MyDrive/diploma/sample/000086.png /content/drive/MyDrive/diploma/sample/000003.png /content/drive/MyDrive/diploma/sample/000021.png /content/drive/MyDrive/diploma/sample/000037.png /content/drive/MyDrive/diploma/sample/000053.png /content/drive/MyDrive/diploma/sample/000071.png /content/drive/MyDrive/diploma/sample/000087.png /content/drive/MyDrive/diploma/sample/000005.png /content/drive/MyDrive/diploma/sample/000022.png /content/drive/MyDrive/diploma/sample/000038.png /content/drive/MyDrive/diploma/sample/000054.png /content/drive/MyDrive/diploma/sample/000072.png /content/drive/MyDrive/diploma/sample/000089.png /content/drive/MyDrive/diploma/sample/000006.png /content/drive/MyDrive/diploma/sample/000023.png /content/drive/MyDrive/diploma/sample/000039.png /content/drive/MyDrive/diploma/sample/000055.png /content/drive/MyDrive/diploma/sample/000073.png /content/drive/MyDrive/diploma/sample/000090.png /content/drive/MyDrive/diploma/sample/000007.png "
      ]
    },
    {
      "cell_type": "code",
      "execution_count": null,
      "metadata": {
        "colab": {
          "base_uri": "https://localhost:8080/"
        },
        "id": "8vuqxSwMTG8z",
        "outputId": "e64d42b0-50e6-4417-bd59-39ffc80c62a8"
      },
      "outputs": [
        {
          "output_type": "stream",
          "name": "stdout",
          "text": [
            "Setting up Perceptual loss...\n",
            "Loading model from: /content/stylegan2-pytorch/lpips/weights/v0.1/vgg.pth\n",
            "...[net-lin [vgg]] initialized\n",
            "...Done\n",
            "  0% 0/1000 [00:00<?, ?it/s]/content/stylegan2-pytorch/op/conv2d_gradfix.py:89: UserWarning: conv2d_gradfix not supported on PyTorch 1.10.0+cu111. Falling back to torch.nn.functional.conv2d().\n",
            "  f\"conv2d_gradfix not supported on PyTorch {torch.__version__}. Falling back to torch.nn.functional.conv2d().\"\n",
            "perceptual: 0.6560; noise regularize: 0.0000; mse: 0.0451; lr: 0.0000: 100% 1000/1000 [17:13<00:00,  1.03s/it]\n"
          ]
        }
      ],
      "source": [
        "!python stylegan2-pytorch/projector.py --size 128 --w_plus --ckpt /content/drive/MyDrive/diploma/checkpointLOGAN/175000.pt /content/drive/MyDrive/diploma/sample/000024.png /content/drive/MyDrive/diploma/sample/000040.png /content/drive/MyDrive/diploma/sample/000056.png /content/drive/MyDrive/diploma/sample/000074.png /content/drive/MyDrive/diploma/sample/000092.png /content/drive/MyDrive/diploma/sample/000008.png /content/drive/MyDrive/diploma/sample/000025.png /content/drive/MyDrive/diploma/sample/000041.png /content/drive/MyDrive/diploma/sample/000057.png /content/drive/MyDrive/diploma/sample/000075.png /content/drive/MyDrive/diploma/sample/000093.png /content/drive/MyDrive/diploma/sample/000009.png /content/drive/MyDrive/diploma/sample/000026.png /content/drive/MyDrive/diploma/sample/000042.png /content/drive/MyDrive/diploma/sample/000058.png /content/drive/MyDrive/diploma/sample/000076.png "
      ]
    },
    {
      "cell_type": "code",
      "execution_count": null,
      "metadata": {
        "colab": {
          "base_uri": "https://localhost:8080/"
        },
        "id": "9JNHmWzXTG_D",
        "outputId": "4e5f1ea5-99d4-44f0-83d6-ae9c530973ee"
      },
      "outputs": [
        {
          "output_type": "stream",
          "name": "stdout",
          "text": [
            "Setting up Perceptual loss...\n",
            "Loading model from: /content/stylegan2-pytorch/lpips/weights/v0.1/vgg.pth\n",
            "...[net-lin [vgg]] initialized\n",
            "...Done\n",
            "  0% 0/1000 [00:00<?, ?it/s]/content/stylegan2-pytorch/op/conv2d_gradfix.py:89: UserWarning: conv2d_gradfix not supported on PyTorch 1.10.0+cu111. Falling back to torch.nn.functional.conv2d().\n",
            "  f\"conv2d_gradfix not supported on PyTorch {torch.__version__}. Falling back to torch.nn.functional.conv2d().\"\n",
            "perceptual: 0.8538; noise regularize: 0.0000; mse: 0.2926; lr: 0.0000: 100% 1000/1000 [15:44<00:00,  1.06it/s]\n"
          ]
        }
      ],
      "source": [
        "!python stylegan2-pytorch/projector.py --size 128 --w_plus --ckpt /content/drive/MyDrive/diploma/checkpointLOGAN/177000.pt /content/drive/MyDrive/diploma/sample/000096.png /content/drive/MyDrive/diploma/sample/000010.png /content/drive/MyDrive/diploma/sample/000027.png /content/drive/MyDrive/diploma/sample/000043.png /content/drive/MyDrive/diploma/sample/000059.png /content/drive/MyDrive/diploma/sample/000077.png /content/drive/MyDrive/diploma/sample/000097.png /content/drive/MyDrive/diploma/sample/000011.png /content/drive/MyDrive/diploma/sample/000028.png /content/drive/MyDrive/diploma/sample/000044.png /content/drive/MyDrive/diploma/sample/000060.png /content/drive/MyDrive/diploma/sample/000078.png /content/drive/MyDrive/diploma/sample/000098.png /content/drive/MyDrive/diploma/sample/000012.png  "
      ]
    },
    {
      "cell_type": "markdown",
      "metadata": {
        "id": "c1amgSH_aZYB"
      },
      "source": [
        ""
      ]
    },
    {
      "cell_type": "code",
      "execution_count": null,
      "metadata": {
        "colab": {
          "background_save": true
        },
        "id": "YTrSqhmbTHBv",
        "outputId": "c21d08c6-55be-48e5-9901-e13359a5d9a2"
      },
      "outputs": [
        {
          "name": "stdout",
          "output_type": "stream",
          "text": [
            "Setting up Perceptual loss...\n",
            "Loading model from: /content/stylegan2-pytorch/lpips/weights/v0.1/vgg.pth\n",
            "...[net-lin [vgg]] initialized\n",
            "...Done\n",
            "  0% 0/1000 [00:00<?, ?it/s]/content/stylegan2-pytorch/op/conv2d_gradfix.py:89: UserWarning: conv2d_gradfix not supported on PyTorch 1.10.0+cu111. Falling back to torch.nn.functional.conv2d().\n",
            "  f\"conv2d_gradfix not supported on PyTorch {torch.__version__}. Falling back to torch.nn.functional.conv2d().\"\n",
            "perceptual: 2.1457; noise regularize: 0.0000; mse: 0.1721; lr: 0.0000: 100% 1000/1000 [11:06<00:00,  1.50it/s]\n"
          ]
        }
      ],
      "source": [
        "!python stylegan2-pytorch/projector.py --size 128 --w_plus --ckpt /content/drive/MyDrive/diploma/checkpointLOGAN/175000.pt "
      ]
    },
    {
      "cell_type": "code",
      "execution_count": null,
      "metadata": {
        "colab": {
          "background_save": true
        },
        "id": "QdCoFarfTHFT",
        "outputId": "b7885447-96ea-42bd-ae63-a08ee8538075"
      },
      "outputs": [
        {
          "name": "stdout",
          "output_type": "stream",
          "text": [
            "Setting up Perceptual loss...\n",
            "Loading model from: /content/stylegan2-pytorch/lpips/weights/v0.1/vgg.pth\n",
            "...[net-lin [vgg]] initialized\n",
            "...Done\n",
            "  0% 0/1000 [00:00<?, ?it/s]/content/stylegan2-pytorch/op/conv2d_gradfix.py:89: UserWarning: conv2d_gradfix not supported on PyTorch 1.10.0+cu111. Falling back to torch.nn.functional.conv2d().\n",
            "  f\"conv2d_gradfix not supported on PyTorch {torch.__version__}. Falling back to torch.nn.functional.conv2d().\"\n",
            "perceptual: 3.3110; noise regularize: 0.0000; mse: 0.3755; lr: 0.0000: 100% 1000/1000 [16:56<00:00,  1.02s/it]\n"
          ]
        }
      ],
      "source": [
        "!python stylegan2-pytorch/projector.py --size 128 --w_plus --ckpt drive/MyDrive/diploma/checkpoint/140000.pt drive/MyDrive/diploma/logomark_png/IEEE.jpg drive/MyDrive/diploma/logomark_png/sherlock.jpg drive/MyDrive/diploma/logomark_png/postman.jpg drive/MyDrive/diploma/logomark_png/Dove.jpg drive/MyDrive/diploma/logomark_png/DRONE.jpg drive/MyDrive/diploma/logomark_png/CodeIgniter.jpg drive/MyDrive/diploma/logomark_png/rescript.jpg drive/MyDrive/diploma/logomark_png/mono.jpg drive/MyDrive/diploma/logomark_png/storybook.jpg drive/MyDrive/diploma/logomark_png/DATADOG.jpg drive/MyDrive/diploma/logomark_png/spree.jpg drive/MyDrive/diploma/logomark_png/keycdn.jpg drive/MyDrive/diploma/logomark_png/ARDUINO.jpg drive/MyDrive/diploma/logomark_png/OpenZeppelin.jpg drive/MyDrive/diploma/logomark_png/mparticle.jpg drive/MyDrive/diploma/logomark_png/cinder.jpg drive/MyDrive/diploma/logomark_png/dinersclub.jpg drive/MyDrive/diploma/logomark_png/drip.jpg drive/MyDrive/diploma/logomark_png/mapbox.jpg drive/MyDrive/diploma/logomark_png/Mapzen.jpg drive/MyDrive/diploma/logomark_png/GSHOCK.jpg drive/MyDrive/diploma/logomark_png/PHILLIPS.jpg drive/MyDrive/diploma/logomark_png/immer.jpg drive/MyDrive/diploma/logomark_png/giorgio-armani.jpg drive/MyDrive/diploma/logomark_png/youtube.jpg drive/MyDrive/diploma/logomark_png/rails.jpg drive/MyDrive/diploma/logomark_png/kafka.jpg drive/MyDrive/diploma/logomark_png/windows.jpg"
      ]
    },
    {
      "cell_type": "code",
      "execution_count": null,
      "metadata": {
        "colab": {
          "background_save": true
        },
        "id": "OBOMH3PTTHJX",
        "outputId": "b1db4ba6-d255-45d8-dac4-69a6ba5453e8"
      },
      "outputs": [
        {
          "name": "stdout",
          "output_type": "stream",
          "text": [
            "Setting up Perceptual loss...\n",
            "Loading model from: /content/stylegan2-pytorch/lpips/weights/v0.1/vgg.pth\n",
            "...[net-lin [vgg]] initialized\n",
            "...Done\n",
            "  0% 0/1000 [00:00<?, ?it/s]/content/stylegan2-pytorch/op/conv2d_gradfix.py:89: UserWarning: conv2d_gradfix not supported on PyTorch 1.10.0+cu111. Falling back to torch.nn.functional.conv2d().\n",
            "  f\"conv2d_gradfix not supported on PyTorch {torch.__version__}. Falling back to torch.nn.functional.conv2d().\"\n",
            "perceptual: 1.3687; noise regularize: 0.0000; mse: 0.3412; lr: 0.0000: 100% 1000/1000 [09:39<00:00,  1.73it/s]\n"
          ]
        }
      ],
      "source": [
        "!python stylegan2-pytorch/projector.py --size 128 --w_plus --ckpt drive/MyDrive/diploma/checkpoint/140000.pt    drive/MyDrive/diploma/logomark_png/qlik.jpg drive/MyDrive/diploma/logomark_png/auth0.jpg drive/MyDrive/diploma/logomark_png/redhat.jpg drive/MyDrive/diploma/logomark_png/Iron.jpg drive/MyDrive/diploma/logomark_png/mailgun.jpg drive/MyDrive/diploma/logomark_png/solarwinds.jpg drive/MyDrive/diploma/logomark_png/vercel.jpg drive/MyDrive/diploma/logomark_png/vagrant.jpg drive/MyDrive/diploma/logomark_png/EBANX.jpg drive/MyDrive/diploma/logomark_png/loopback.jpg drive/MyDrive/diploma/logomark_png/scribd.jpg drive/MyDrive/diploma/logomark_png/stackoverflow.jpg drive/MyDrive/diploma/logomark_png/atlassian.jpg drive/MyDrive/diploma/logomark_png/mastercard.jpg drive/MyDrive/diploma/logomark_png/Lightstep.jpg drive/MyDrive/diploma/logomark_png/puma-logo.jpg"
      ]
    },
    {
      "cell_type": "code",
      "execution_count": null,
      "metadata": {
        "colab": {
          "background_save": true
        },
        "id": "5vDzBFvETHhe",
        "outputId": "135b0423-25b0-4c9a-f9e4-90af675664ee"
      },
      "outputs": [
        {
          "name": "stdout",
          "output_type": "stream",
          "text": [
            "Setting up Perceptual loss...\n",
            "Loading model from: /content/stylegan2-pytorch/lpips/weights/v0.1/vgg.pth\n",
            "...[net-lin [vgg]] initialized\n",
            "...Done\n",
            "  0% 0/1000 [00:00<?, ?it/s]/content/stylegan2-pytorch/op/conv2d_gradfix.py:89: UserWarning: conv2d_gradfix not supported on PyTorch 1.10.0+cu111. Falling back to torch.nn.functional.conv2d().\n",
            "  f\"conv2d_gradfix not supported on PyTorch {torch.__version__}. Falling back to torch.nn.functional.conv2d().\"\n",
            "perceptual: 1.1493; noise regularize: 0.0000; mse: 0.1374; lr: 0.0000: 100% 1000/1000 [10:33<00:00,  1.58it/s]\n"
          ]
        }
      ],
      "source": [
        "!python stylegan2-pytorch/projector.py --size 128 --w_plus --ckpt drive/MyDrive/diploma/checkpoint/140000.pt     drive/MyDrive/diploma/logomark_png/rocketchat.jpg drive/MyDrive/diploma/logomark_png/fastify.jpg drive/MyDrive/diploma/logomark_png/wicket.jpg drive/MyDrive/diploma/logomark_png/suse.jpg drive/MyDrive/diploma/logomark_png/sidekiq.jpg drive/MyDrive/diploma/logomark_png/retool.jpg drive/MyDrive/diploma/logomark_png/leankit.jpg drive/MyDrive/diploma/logomark_png/svelte.jpg drive/MyDrive/diploma/logomark_png/ubuntu.jpg drive/MyDrive/diploma/logomark_png/play.jpg drive/MyDrive/diploma/logomark_png/HelpScout.jpg drive/MyDrive/diploma/logomark_png/mongodb.jpg drive/MyDrive/diploma/logomark_png/twilio.jpg drive/MyDrive/diploma/logomark_png/rabbitmq.jpg drive/MyDrive/diploma/logomark_png/centos.jpg drive/MyDrive/diploma/logomark_png/strapi.jpg drive/MyDrive/diploma/logomark_png/Alpine.js.jpg"
      ]
    },
    {
      "cell_type": "code",
      "execution_count": null,
      "metadata": {
        "colab": {
          "background_save": true
        },
        "id": "e05Lt5JXTHkR",
        "outputId": "cdd467b7-11cd-4a3b-973a-70f187e5fe47"
      },
      "outputs": [
        {
          "name": "stdout",
          "output_type": "stream",
          "text": [
            "Setting up Perceptual loss...\n",
            "Loading model from: /content/stylegan2-pytorch/lpips/weights/v0.1/vgg.pth\n",
            "...[net-lin [vgg]] initialized\n",
            "...Done\n",
            "  0% 0/1000 [00:00<?, ?it/s]/content/stylegan2-pytorch/op/conv2d_gradfix.py:89: UserWarning: conv2d_gradfix not supported on PyTorch 1.10.0+cu111. Falling back to torch.nn.functional.conv2d().\n",
            "  f\"conv2d_gradfix not supported on PyTorch {torch.__version__}. Falling back to torch.nn.functional.conv2d().\"\n",
            "perceptual: 2.0689; noise regularize: 0.0000; mse: 0.1596; lr: 0.0000: 100% 1000/1000 [12:15<00:00,  1.36it/s]\n"
          ]
        }
      ],
      "source": [
        "!python stylegan2-pytorch/projector.py --size 128 --w_plus --ckpt drive/MyDrive/diploma/checkpoint/140000.pt   drive/MyDrive/diploma/logomark_png/mariadb.jpg drive/MyDrive/diploma/logomark_png/traackr.jpg drive/MyDrive/diploma/logomark_png/terraform.jpg drive/MyDrive/diploma/logomark_png/adonis.jpg drive/MyDrive/diploma/logomark_png/hapi.jpg drive/MyDrive/diploma/logomark_png/percy.jpg drive/MyDrive/diploma/logomark_png/bitrise.jpg drive/MyDrive/diploma/logomark_png/modx.jpg drive/MyDrive/diploma/logomark_png/JAGUAR.jpg drive/MyDrive/diploma/logomark_png/NuxtJS.jpg drive/MyDrive/diploma/logomark_png/cloudacademy.jpg drive/MyDrive/diploma/logomark_png/typo.jpg drive/MyDrive/diploma/logomark_png/rolex.jpg drive/MyDrive/diploma/logomark_png/CampaignMonitor.jpg drive/MyDrive/diploma/logomark_png/webdriverio.jpg drive/MyDrive/diploma/logomark_png/craftcms.jpg drive/MyDrive/diploma/logomark_png/solr.jpg drive/MyDrive/diploma/logomark_png/JWT.jpg drive/MyDrive/diploma/logomark_png/puppeteer.jpg drive/MyDrive/diploma/logomark_png/adidas.jpg"
      ]
    },
    {
      "cell_type": "code",
      "execution_count": null,
      "metadata": {
        "id": "Sm6MatOHTHmx"
      },
      "outputs": [],
      "source": [
        "!python stylegan2-pytorch/projector.py --size 128 --w_plus --ckpt drive/MyDrive/diploma/checkpoint/140000.pt drive/MyDrive/diploma/logomark_png/vault.jpg drive/MyDrive/diploma/logomark_png/ForestAdmin.jpg drive/MyDrive/diploma/logomark_png/semantic-web.jpg drive/MyDrive/diploma/logomark_png/GooglePay.jpg drive/MyDrive/diploma/logomark_png/BOEING.jpg drive/MyDrive/diploma/logomark_png/mattermost.jpg drive/MyDrive/diploma/logomark_png/Adobe.jpg drive/MyDrive/diploma/logomark_png/appsignal.jpg drive/MyDrive/diploma/logomark_png/Drupal.jpg drive/MyDrive/diploma/logomark_png/deviantart.jpg drive/MyDrive/diploma/logomark_png/atomic.jpg drive/MyDrive/diploma/logomark_png/pm2.jpg drive/MyDrive/diploma/logomark_png/gnu-net.jpg drive/MyDrive/diploma/logomark_png/motorola.jpg drive/MyDrive/diploma/logomark_png/httpie.jpg drive/MyDrive/diploma/logomark_png/mci.jpg drive/MyDrive/diploma/logomark_png/Microsoft.jpg drive/MyDrive/diploma/logomark_png/Dropbox.jpg drive/MyDrive/diploma/logomark_png/section.jpg drive/MyDrive/diploma/logomark_png/GNOME.jpg drive/MyDrive/diploma/logomark_png/newbalance.jpg"
      ]
    }
  ],
  "metadata": {
    "accelerator": "GPU",
    "colab": {
      "collapsed_sections": [],
      "name": "StyleGan Projection.ipynb",
      "provenance": []
    },
    "kernelspec": {
      "display_name": "Python 3",
      "name": "python3"
    },
    "language_info": {
      "name": "python"
    }
  },
  "nbformat": 4,
  "nbformat_minor": 0
}